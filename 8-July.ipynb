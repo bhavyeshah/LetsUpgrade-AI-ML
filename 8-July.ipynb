{
 "cells": [
  {
   "cell_type": "code",
   "execution_count": 1,
   "metadata": {},
   "outputs": [
    {
     "name": "stdout",
     "output_type": "stream",
     "text": [
      "(1+2j)\n"
     ]
    }
   ],
   "source": [
    "# Question 1: Subtraction of 2 complex numbers\n",
    "\n",
    "a = 2+4j\n",
    "b = 1+2j\n",
    "\n",
    "print (a-b)"
   ]
  },
  {
   "cell_type": "code",
   "execution_count": 2,
   "metadata": {},
   "outputs": [
    {
     "data": {
      "text/plain": [
       "'C:\\\\Users\\\\bhavy'"
      ]
     },
     "execution_count": 2,
     "metadata": {},
     "output_type": "execute_result"
    }
   ],
   "source": [
    "import os\n",
    "os.getcwd()"
   ]
  },
  {
   "cell_type": "code",
   "execution_count": 3,
   "metadata": {},
   "outputs": [
    {
     "name": "stdout",
     "output_type": "stream",
     "text": [
      "2.0\n",
      "3.0\n"
     ]
    }
   ],
   "source": [
    "# Question 2: Fourth root of a number\n",
    "\n",
    "a = 16\n",
    "b = 81\n",
    "\n",
    "print (a**(1/4))\n",
    "print (b**(1/4))"
   ]
  },
  {
   "cell_type": "code",
   "execution_count": 4,
   "metadata": {},
   "outputs": [
    {
     "name": "stdout",
     "output_type": "stream",
     "text": [
      "Intial value of a:  2\n",
      "Intial value of b:  3\n",
      "Final value of a:  3\n",
      "Final value of b:  2\n"
     ]
    }
   ],
   "source": [
    "# Question 3: Swapping of 2 numbers using a temporary variable\n",
    "\n",
    "a = 2\n",
    "b = 3\n",
    "\n",
    "print(\"Intial value of a: \", a)\n",
    "print(\"Intial value of b: \", b)\n",
    "\n",
    "c = b\n",
    "b = a\n",
    "a = c\n",
    "\n",
    "print(\"Final value of a: \", a)\n",
    "print(\"Final value of b: \", b)\n",
    "\n"
   ]
  },
  {
   "cell_type": "code",
   "execution_count": 4,
   "metadata": {},
   "outputs": [
    {
     "name": "stdout",
     "output_type": "stream",
     "text": [
      "Intial value of a:  2\n",
      "Intial value of b:  3\n",
      "Final value of a:  3\n",
      "Final value of b:  2\n"
     ]
    }
   ],
   "source": [
    "# Question 4: Swapping of 2 numbers without using a temporary variable\n",
    "\n",
    "a = 2\n",
    "b = 3\n",
    "\n",
    "print(\"Intial value of a: \", a)\n",
    "print(\"Intial value of b: \", b)\n",
    "\n",
    "a = a+b\n",
    "b = a-b\n",
    "a = a-b\n",
    "\n",
    "print(\"Final value of a: \", a)\n",
    "print(\"Final value of b: \", b)"
   ]
  },
  {
   "cell_type": "code",
   "execution_count": 5,
   "metadata": {},
   "outputs": [
    {
     "name": "stdout",
     "output_type": "stream",
     "text": [
      "Temperature in Kelvin:  98.6 K\n",
      "Temperature in Farenheit:  310.15 F\n",
      "Temperature in Celsius:  37.0 C\n"
     ]
    }
   ],
   "source": [
    "# Question 5: Program to convert farenheit to Kelvin and Celsius\n",
    "\n",
    "a = 98.6\n",
    "\n",
    "b = (a-32)*(5/9)+273.15\n",
    "c = (a-32)*(5/9)\n",
    "\n",
    "print(\"Temperature in Kelvin: \", a, \"K\")\n",
    "print(\"Temperature in Farenheit: \", b, \"F\")\n",
    "print(\"Temperature in Celsius: \", c, \"C\")"
   ]
  },
  {
   "cell_type": "code",
   "execution_count": 6,
   "metadata": {},
   "outputs": [
    {
     "name": "stdout",
     "output_type": "stream",
     "text": [
      "Type of a is:  <class 'int'>\n",
      "Type of b is:  <class 'float'>\n",
      "Type of c is:  <class 'complex'>\n",
      "Type of d is:  <class 'str'>\n",
      "Type of e is:  <class 'bool'>\n"
     ]
    }
   ],
   "source": [
    "# Question 6: Program to display all data types in Python\n",
    "\n",
    "a = 2\n",
    "b = 2.5\n",
    "c = 2 + 6j\n",
    "d = \"Bhavyesh\"\n",
    "e = True\n",
    "\n",
    "print(\"Type of a is: \", type(a))\n",
    "print(\"Type of b is: \", type(b))\n",
    "print(\"Type of c is: \", type(c))\n",
    "print(\"Type of d is: \", type(d))\n",
    "print(\"Type of e is: \", type(e))"
   ]
  },
  {
   "cell_type": "markdown",
   "metadata": {},
   "source": [
    "# Steps to Create GitHub Profile and upload Assignments\n",
    "\n",
    "## GitHub Profile Creation\n",
    "1. Go to https://github.com\n",
    "2. If you do not have account already then sign up using your Email ID\n",
    "3. After the account is successfully created, create a new repository and name it *LetsUpgrade AI/ML*\n",
    "4. Keep the profile ***public*** so that everyone can see\n",
    "\n",
    "## Uploading assignments\n",
    "1. After each day's assignment, upload the .ipynb file to repository and commit\n",
    "2. Copy the URL of the Folder of that day and paste in the Assignment Submission Form\n",
    "3. Make sure you are filling correct details in the Assignment Submission Form.\n",
    "4. All the drop-downs will be available till the **week end** only"
   ]
  }
 ],
 "metadata": {
  "kernelspec": {
   "display_name": "Python 3",
   "language": "python",
   "name": "python3"
  },
  "language_info": {
   "codemirror_mode": {
    "name": "ipython",
    "version": 3
   },
   "file_extension": ".py",
   "mimetype": "text/x-python",
   "name": "python",
   "nbconvert_exporter": "python",
   "pygments_lexer": "ipython3",
   "version": "3.7.6"
  }
 },
 "nbformat": 4,
 "nbformat_minor": 4
}
