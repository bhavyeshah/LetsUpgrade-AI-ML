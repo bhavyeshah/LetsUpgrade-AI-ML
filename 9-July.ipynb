{
 "cells": [
  {
   "cell_type": "code",
   "execution_count": 2,
   "metadata": {},
   "outputs": [
    {
     "name": "stdout",
     "output_type": "stream",
     "text": [
      "The 2 complex numbers are: a =  (4+8j) , b =  (2+2j)\n",
      "Addition on Complex Numbers:  (6+10j)\n",
      "Subtraction on Complex Numbers:  (2+6j)\n",
      "Multiplication, Division, Floor Division and Modulus operations cannot be performed on complex numbers\n"
     ]
    }
   ],
   "source": [
    "# Question 1: Mathematical operations on complex numbers\n",
    "\n",
    "a = 4+8j\n",
    "b = 2+2j\n",
    "\n",
    "c = a+b\n",
    "d = a-b\n",
    "# e = a*b\n",
    "# f = a/b\n",
    "# g = a//b\n",
    "# h = a%b\n",
    "\n",
    "print(\"The 2 complex numbers are: a = \", a, \", b = \",b)\n",
    "print(\"Addition on Complex Numbers: \", c)\n",
    "print(\"Subtraction on Complex Numbers: \", d)\n",
    "print(\"Multiplication, Division, Floor Division and Modulus operations cannot be performed on complex numbers\")"
   ]
  },
  {
   "cell_type": "code",
   "execution_count": 21,
   "metadata": {},
   "outputs": [
    {
     "name": "stdout",
     "output_type": "stream",
     "text": [
      "range function with only end value: \n",
      "0\n",
      "1\n",
      "2\n",
      "3\n",
      "4\n",
      "range function with start value and end value: \n",
      "1\n",
      "2\n",
      "3\n",
      "4\n",
      "range function with start value, end value and step size: \n",
      "1\n",
      "3\n",
      "5\n",
      "7\n",
      "9\n"
     ]
    }
   ],
   "source": [
    "# Question 2: Range Function implementation and definition\n",
    "\n",
    "c = range(1,10,2)\n",
    "\n",
    "print(\"range function with only end value: \")\n",
    "for a in range(5):\n",
    "    print(a)\n",
    "\n",
    "print(\"range function with start value and end value: \")\n",
    "for b in range(1,5):\n",
    "    print(b)\n",
    "\n",
    "print(\"range function with start value, end value and step size: \")\n",
    "for c in range(1,10,2):\n",
    "    print(c)\n"
   ]
  },
  {
   "cell_type": "markdown",
   "metadata": {},
   "source": [
    "# Range Function\n",
    "\n",
    "Range function is used to generate sequence and comes handy in loops. It uses 3 parameters (start_value, end_value, step_size). The start_value and step_size parameters are optional. Default value of start_value is 0 and default value of step_size is 1. The range always ends on value end_value-1. All the parameters need to be integer values and always checks for logical contunuity. Logical Continuity means, when start value is greater than end value, the step size has to be negative so that it follows logical sequence and vice versa when start value is greater than end value. Example of range function is range(start_value, end_value, step_size): range (1,5,1) will follow sequence, 1, 2, 3, 4."
   ]
  },
  {
   "cell_type": "code",
   "execution_count": 22,
   "metadata": {},
   "outputs": [
    {
     "name": "stdout",
     "output_type": "stream",
     "text": [
      "The given 2 numbers are: a =  35  and b =  5\n",
      "The Subtraction of 2 numbers a-b =  30\n",
      "Since Subtraction of 2 numbers is greater than 25, their product is:  175\n"
     ]
    }
   ],
   "source": [
    "# Question 3: Demonstration of if else statement\n",
    "\n",
    "a = 35\n",
    "b = 5\n",
    "\n",
    "print(\"The given 2 numbers are: a = \",a,\" and b = \",b)\n",
    "print(\"The Subtraction of 2 numbers a-b = \", a-b)\n",
    "if (a-b) > 25:\n",
    "    print(\"Since Subtraction of 2 numbers is greater than 25, their product is: \", a*b)\n",
    "else:\n",
    "    print(\"Since subtraction of 2 numbers is less than 25, their division is: \", a/b)"
   ]
  },
  {
   "cell_type": "code",
   "execution_count": 27,
   "metadata": {},
   "outputs": [
    {
     "name": "stdout",
     "output_type": "stream",
     "text": [
      "The List entered is:  [1, 2, 26, 5, 8, 9, 44, 15, 13, 30]\n",
      "Since the element of the list  2  is even the square of the number minus 2 is:  2\n",
      "Since the element of the list  26  is even the square of the number minus 2 is:  674\n",
      "Since the element of the list  8  is even the square of the number minus 2 is:  62\n",
      "Since the element of the list  44  is even the square of the number minus 2 is:  1934\n",
      "Since the element of the list  30  is even the square of the number minus 2 is:  898\n"
     ]
    }
   ],
   "source": [
    "# Question 4: Loop, if and list implementation 1\n",
    "\n",
    "a = [1,2,26,5,8,9,44,15,13,30]\n",
    "\n",
    "print(\"The List entered is: \", a)\n",
    "for i in a:\n",
    "    if(i%2 == 0):\n",
    "        print(\"Since the element of the list \",i,\" is even the square of the number minus 2 is: \", (i**2-2))"
   ]
  },
  {
   "cell_type": "code",
   "execution_count": 28,
   "metadata": {},
   "outputs": [
    {
     "name": "stdout",
     "output_type": "stream",
     "text": [
      "The List entered is:  [1, 2, 26, 5, 8, 9, 44, 15, 13, 30]\n",
      "The half of number  26 is greater than 7\n",
      "The half of number  44 is greater than 7\n",
      "The half of number  15 is greater than 7\n",
      "The half of number  30 is greater than 7\n"
     ]
    }
   ],
   "source": [
    "# Question 4: Loop, if and list implementation 2\n",
    "\n",
    "a = [1,2,26,5,8,9,44,15,13,30]\n",
    "\n",
    "print(\"The List entered is: \", a)\n",
    "for i in a:\n",
    "    if(i/2>7):\n",
    "        print(\"The half of number \",i,\"is greater than 7\")"
   ]
  }
 ],
 "metadata": {
  "kernelspec": {
   "display_name": "Python 3",
   "language": "python",
   "name": "python3"
  },
  "language_info": {
   "codemirror_mode": {
    "name": "ipython",
    "version": 3
   },
   "file_extension": ".py",
   "mimetype": "text/x-python",
   "name": "python",
   "nbconvert_exporter": "python",
   "pygments_lexer": "ipython3",
   "version": "3.7.6"
  }
 },
 "nbformat": 4,
 "nbformat_minor": 4
}
