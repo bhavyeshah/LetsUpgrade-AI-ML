{
 "cells": [
  {
   "cell_type": "code",
   "execution_count": 1,
   "metadata": {},
   "outputs": [
    {
     "name": "stdout",
     "output_type": "stream",
     "text": [
      "The  1 th Prime Number is:  2\n",
      "The  2 th Prime Number is:  3\n",
      "The  3 th Prime Number is:  5\n",
      "The  4 th Prime Number is:  7\n",
      "The  5 th Prime Number is:  11\n",
      "The  6 th Prime Number is:  13\n",
      "The  7 th Prime Number is:  17\n",
      "The  8 th Prime Number is:  19\n",
      "The  9 th Prime Number is:  23\n",
      "The  10 th Prime Number is:  29\n",
      "The  11 th Prime Number is:  31\n",
      "The  12 th Prime Number is:  37\n",
      "The  13 th Prime Number is:  41\n",
      "The  14 th Prime Number is:  43\n",
      "The  15 th Prime Number is:  47\n",
      "The  16 th Prime Number is:  53\n",
      "The  17 th Prime Number is:  59\n",
      "The  18 th Prime Number is:  61\n",
      "The  19 th Prime Number is:  67\n",
      "The  20 th Prime Number is:  71\n"
     ]
    }
   ],
   "source": [
    "# Question 1: First 20 Prime Numbers\n",
    "\n",
    "a = 2\n",
    "i = 1\n",
    "\n",
    "while i<=20:\n",
    "    j = 2\n",
    "    while j <= a/2:\n",
    "        if (a%j == 0):\n",
    "            break\n",
    "        else:\n",
    "            j = j+1\n",
    "    if (j > a/2):\n",
    "        print(\"The \",i,\"th Prime Number is: \",a)\n",
    "        i = i+1\n",
    "    a = a+1\n",
    "    \n",
    "        "
   ]
  },
  {
   "cell_type": "code",
   "execution_count": 3,
   "metadata": {},
   "outputs": [
    {
     "name": "stdout",
     "output_type": "stream",
     "text": [
      "The first occurrence of a is:  23\n",
      "The string is not totally alphabetic and isalpha will return value:  False\n",
      "The string is not alpha-numeric and isalnum will return value:  False\n",
      "The Tomato is found in the string at position:  26\n",
      "The 'i' occurs in the string:  10 times\n",
      "The string ends with 'd':  True\n",
      "The string in initcaps is:  Knowledge is knowing that tomato is a fruit and wisdom is not putting it into a fruit salad\n",
      "The string in center for 1000 chacters:                                                                                                                                                                                                                                                                                                                                                                                                                                                                        knowledge is knowing that Tomato is a fruit and wisdom is not putting it into a fruit salad                                                                                                                                                                                                                                                                                                                                                                                                                                                                       \n",
      "Not all characters in string are lower case and islower function returns: False\n",
      "Not all characters in string are upper case and isupper function returns: False\n",
      "The string in upper case is:  KNOWLEDGE IS KNOWING THAT TOMATO IS A FRUIT AND WISDOM IS NOT PUTTING IT INTO A FRUIT SALAD\n",
      "The string in lower case is:  knowledge is knowing that tomato is a fruit and wisdom is not putting it into a fruit salad\n",
      "Converting 1st character of each word to caps:  Knowledge Is Knowing That Tomato Is A Fruit And Wisdom Is Not Putting It Into A Fruit Salad\n",
      "Swapping case of the string:  KNOWLEDGE IS KNOWING THAT tOMATO IS A FRUIT AND WISDOM IS NOT PUTTING IT INTO A FRUIT SALAD\n",
      "The string starts with k:  True\n",
      "Splitting the string at each space:  ['knowledge', 'is', 'knowing', 'that', 'Tomato', 'is', 'a', 'fruit', 'and', 'wisdom', 'is', 'not', 'putting', 'it', 'into', 'a', 'fruit', 'salad']\n",
      "The string in left justified for 1000 chacters:  knowledge is knowing that Tomato is a fruit and wisdom is not putting it into a fruit salad                                                                                                                                                                                                                                                                                                                                                                                                                                                                                                                                                                                                                                                                                                                                                                                                                                                                                                                                             \n",
      "The string in right justified for 1000 chacters:                                                                                                                                                                                                                                                                                                                                                                                                                                                                                                                                                                                                                                                                                                                                                                                                                                                                                                                                               knowledge is knowing that Tomato is a fruit and wisdom is not putting it into a fruit salad\n"
     ]
    }
   ],
   "source": [
    "# Question 2: 15 String Functions\n",
    "\n",
    "a = \"knowledge is knowing that Tomato is a fruit and wisdom is not putting it into a fruit salad\"\n",
    "print (\"The first occurrence of a is: \", a.index(\"a\"))\n",
    "print (\"The string is not totally alphabetic and isalpha will return value: \", a.isalpha())\n",
    "print (\"The string is not alpha-numeric and isalnum will return value: \", a.isalnum())\n",
    "print (\"The Tomato is found in the string at position: \", a.find(\"Tomato\"))\n",
    "print (\"The 'i' occurs in the string: \", a.count(\"i\"), \"times\")\n",
    "print (\"The string ends with 'd': \", a.endswith(\"d\"))\n",
    "print (\"The string in initcaps is: \", a.capitalize())\n",
    "print (\"The string in center for 1000 chacters: \", a.center(1000))\n",
    "print (\"Not all characters in string are lower case and islower function returns:\", a.islower())\n",
    "print (\"Not all characters in string are upper case and isupper function returns:\", a.isupper())\n",
    "print (\"The string in upper case is: \", a.upper())\n",
    "print (\"The string in lower case is: \", a.lower())\n",
    "print (\"Converting 1st character of each word to caps: \", a.title())\n",
    "print (\"Swapping case of the string: \", a.swapcase())\n",
    "print (\"The string starts with k: \", a.startswith(\"k\"))\n",
    "print (\"Splitting the string at each space: \", a.split(\" \"))\n",
    "print (\"The string in left justified for 1000 chacters: \", a.ljust(1000))\n",
    "print (\"The string in right justified for 1000 chacters: \", a.rjust(1000))"
   ]
  },
  {
   "cell_type": "code",
   "execution_count": 4,
   "metadata": {},
   "outputs": [
    {
     "name": "stdout",
     "output_type": "stream",
     "text": [
      "Please enter choice for Palindrome or Anagram. Enter 1 for Palindrome and 2 for Anagram\n",
      "1\n",
      "Enter string for palindrome\n",
      "nitin\n",
      "The string is palindrome\n"
     ]
    }
   ],
   "source": [
    "# Question 3: Palindrome and anagram\n",
    "\n",
    "from collections import Counter\n",
    "\n",
    "def ispalindrome(str1):\n",
    "    if(str1 == str1[::-1]):\n",
    "        print(\"The string is palindrome\")\n",
    "    else:\n",
    "        print(\"The string is not palindrome\")\n",
    "\n",
    "def isanagram(str1,str2):\n",
    "    if(Counter(str1) == Counter(str2)):\n",
    "        print(\"The Strings are anagram\")\n",
    "    else:\n",
    "        print(\"The strings are not anagram\")\n",
    "\n",
    "print(\"Please enter choice for Palindrome or Anagram. Enter 1 for Palindrome and 2 for Anagram\")\n",
    "choice = input()\n",
    "if(choice == '1'):\n",
    "    print(\"Enter string for palindrome\")\n",
    "    str1 = input()\n",
    "    ispalindrome(str1)\n",
    "elif(choice == '2'):\n",
    "    print(\"Enter string 1 for anagram\")\n",
    "    str1 = input()\n",
    "    print(\"Enter string 2 for anagram\")\n",
    "    str2 = input()\n",
    "    isanagram(str1,str2)\n",
    "else:\n",
    "    print(\"Invalid Choice\")\n",
    "\n"
   ]
  },
  {
   "cell_type": "code",
   "execution_count": 2,
   "metadata": {},
   "outputs": [
    {
     "name": "stdout",
     "output_type": "stream",
     "text": [
      "Enter the string of your choice:\n",
      "BHA3hjdas234#$%\n",
      "The transformed string is:  bhahjdas\n"
     ]
    }
   ],
   "source": [
    "# Question 4: Remove additional characters and print in lower case\n",
    "\n",
    "def strtransform (str1):\n",
    "    for i in str1:\n",
    "        if(not(i.isalpha())):\n",
    "            str1 = str1.replace(i,\"\")\n",
    "    print(\"The transformed string is: \", str1.lower())\n",
    "\n",
    "print(\"Enter the string of your choice:\")\n",
    "a = input()\n",
    "strtransform (a)\n"
   ]
  },
  {
   "cell_type": "code",
   "execution_count": null,
   "metadata": {},
   "outputs": [],
   "source": []
  }
 ],
 "metadata": {
  "kernelspec": {
   "display_name": "Python 3",
   "language": "python",
   "name": "python3"
  },
  "language_info": {
   "codemirror_mode": {
    "name": "ipython",
    "version": 3
   },
   "file_extension": ".py",
   "mimetype": "text/x-python",
   "name": "python",
   "nbconvert_exporter": "python",
   "pygments_lexer": "ipython3",
   "version": "3.7.6"
  }
 },
 "nbformat": 4,
 "nbformat_minor": 4
}
